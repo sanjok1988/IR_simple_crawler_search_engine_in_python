{
 "cells": [
  {
   "cell_type": "code",
   "execution_count": 2,
   "id": "ce267fe6-d2ad-4b02-a278-acb2f904f878",
   "metadata": {
    "tags": []
   },
   "outputs": [
    {
     "name": "stdout",
     "output_type": "stream",
     "text": [
      "Collecting whoosh\n",
      "  Downloading Whoosh-2.7.4-py2.py3-none-any.whl (468 kB)\n",
      "\u001b[2K     \u001b[90m━━━━━━━━━━━━━━━━━━━━━━━━━━━━━━━━━━━━━━━\u001b[0m \u001b[32m468.8/468.8 kB\u001b[0m \u001b[31m2.7 MB/s\u001b[0m eta \u001b[36m0:00:00\u001b[0m00:01\u001b[0m00:01\u001b[0m\n",
      "\u001b[?25hInstalling collected packages: whoosh\n",
      "Successfully installed whoosh-2.7.4\n"
     ]
    }
   ],
   "source": [
    "!pip3 install whoosh"
   ]
  },
  {
   "cell_type": "code",
   "execution_count": 75,
   "id": "9e341acd-adc4-460f-b310-ba6a04d8ea3f",
   "metadata": {},
   "outputs": [],
   "source": [
    "import os\n",
    "import os.path\n",
    "\n",
    "import requests\n",
    "from bs4 import BeautifulSoup\n",
    "from urllib.parse import urljoin\n",
    "from collections import defaultdict\n",
    "from whoosh.fields import Schema, TEXT, KEYWORD, ID, STORED\n",
    "from whoosh.index import create_in, open_dir\n",
    "from whoosh.qparser import QueryParser\n",
    "from whoosh import scoring\n",
    "from whoosh.index import LockError"
   ]
  },
  {
   "cell_type": "code",
   "execution_count": 113,
   "id": "d9f74ee6-4981-4308-8e57-8068e3b4c59b",
   "metadata": {
    "tags": []
   },
   "outputs": [],
   "source": [
    "# Crawler to fetch data from the Coventry University Research Centre for Health and Life Sciences (RCHL) portal\n",
    "def crawl_and_index(base_url, index_path):\n",
    "    # Fetch the page containing the list of publications\n",
    "    response = requests.get(base_url)\n",
    "    soup = BeautifulSoup(response.text, 'html.parser')\n",
    "\n",
    "    # Initialize Whoosh index\n",
    "    # schema = Schema(title=TEXT(stored=True))\n",
    "    schema = Schema(title=TEXT(stored=True), authors=TEXT(stored=True), year=ID(stored=True), \n",
    "                    publication_url=ID(stored=True, unique=True), author_profile_url=ID(stored=True))\n",
    "    \n",
    "    if not os.path.exists(index_path):\n",
    "        os.mkdir(index_path)\n",
    "        \n",
    "    ix = create_in(index_path, schema)\n",
    "    writer = ix.writer()\n",
    "\n",
    "    # Extract publication information\n",
    "    for publication_div in soup.find_all('div', class_='result-container'):\n",
    "        title_tag = publication_div.find('h3', class_=\"title\")\n",
    "\n",
    "        if title_tag:\n",
    "            title = title_tag.get_text(strip = True)\n",
    "        else:\n",
    "            title = \"N/A\"\n",
    "        \n",
    "            \n",
    "        authors_tags = publication_div.find_all('a', class_='link person')\n",
    "        authors = [author.text.strip() for author in authors_tags] if authors_tags else [\"N/A\"]\n",
    "\n",
    "\n",
    "        year_tag = publication_div.find('span', class_='date')\n",
    "        year = year_tag.text.strip() if year_tag else \"N/A\"\n",
    "\n",
    "        publication_url_tag = publication_div.find('a', class_='title')\n",
    "        publication_url = urljoin(base_url, publication_url_tag['href']) if publication_url_tag else \"N/A\"\n",
    "\n",
    "        author_profile_url_tag = publication_div.find('a', class_='link person')\n",
    "        author_profile_url = urljoin(base_url, author_profile_url_tag['href']) if author_profile_url_tag else \"N/A\"\n",
    "        \n",
    "        # Add data to the Whoosh index\n",
    "        try:\n",
    "            writer.add_document(title=title, authors=', '.join(authors), year=year,\n",
    "                            publication_url=publication_url, author_profile_url=author_profile_url)\n",
    "            \n",
    "            # print(title, authors, year, publication_url, author_profile_url)\n",
    "\n",
    "        except LockError as e:\n",
    "            print(f\"LockError: {e}\")\n",
    "            print(\"Attempting to clean up lock files...\")\n",
    "\n",
    "            # Manually clean up lock files\n",
    "            lock_file_path = f\"{index_path}/write.lock\"\n",
    "\n",
    "            try:\n",
    "                os.remove(lock_file_path)\n",
    "                print(f\"Lock file {lock_file_path} removed.\")\n",
    "            except Exception as cleanup_error:\n",
    "                print(f\"Error cleaning up lock file: {cleanup_error}\")\n",
    "\n",
    "    # Commit changes to the index\n",
    "    print(\"Committing please wait...\")\n",
    "    writer.commit()\n",
    "    print(\"Finished\")"
   ]
  },
  {
   "cell_type": "code",
   "execution_count": 116,
   "id": "0180679c-9771-4c51-8677-9e5ab3520010",
   "metadata": {
    "tags": []
   },
   "outputs": [],
   "source": [
    "# Function to search the index\n",
    "def search(query, index_path):\n",
    "    ix = open_dir(index_path)\n",
    "    \n",
    "    with ix.searcher(weighting=scoring.TF_IDF()) as searcher:\n",
    "        query_parser = QueryParser(\"title\", ix.schema)\n",
    "        query = query_parser.parse(query)\n",
    "        results = searcher.search(query, terms=True)\n",
    "\n",
    "        # Display search results\n",
    "        for result in results:\n",
    "            print(f\"Title: {result['title']}\")\n",
    "            print(f\"Authors:  {result['authors']}\")\n",
    "            print(f\"Year: {result['year']}\")\n",
    "            print(f\"Publication URL: {result['publication_url']}\")\n",
    "            print(f\"Author Profile URL: {result['author_profile_url']}\")\n",
    "            print(\"\\n\")"
   ]
  },
  {
   "cell_type": "code",
   "execution_count": 117,
   "id": "90df05dd-cb5c-4d70-8a5b-e058a2226657",
   "metadata": {
    "tags": []
   },
   "outputs": [
    {
     "name": "stdout",
     "output_type": "stream",
     "text": [
      "Barriers and Facilitators to Participation and Key Components of Sleep Health Programs: perspectives for the corporate work environment ['Roden, L.'] 1 Jan 2024 N/A https://pureportal.coventry.ac.uk/en/persons/laura-roden\n",
      "Human gut microbiota and endocrinology: paradigm shift from genome to its regulation ['Turner, M. C.', 'Morozov, I.'] 22 Jan 2024 N/A https://pureportal.coventry.ac.uk/en/persons/mark-turner\n",
      "SGABU computational platform for multiscale modeling: Bridging the gap between education and research ['Jakovljević, D.'] 1 Jan 2024 N/A https://pureportal.coventry.ac.uk/en/persons/djordje-jakovljevic\n",
      "Hatem Ali ['Hatem Ali'] N/A N/A https://pureportal.coventry.ac.uk/en/persons/hatem-ali\n",
      "Sara Anisi ['Sara Anisi'] N/A N/A https://pureportal.coventry.ac.uk/en/persons/sara-anisi\n",
      "Soraya Anisi ['Soraya Anisi'] N/A N/A https://pureportal.coventry.ac.uk/en/persons/soraya-anisi\n",
      "STRATIFYHF:Artificial intelligence-based decision support system for risk stratification and early detection of heart failure in primary and secondary care ['Jakovljevic, D.', 'Okwose, N.'] 1/06/23 N/A https://pureportal.coventry.ac.uk/en/persons/djordje-jakovljevic\n",
      "CORSEscore :CORSscore: Decision support system for the novel Cardiac Output Response to Stress(CORS) test SCORE for risk stratification and early diagnosis of heart failure ['Jakovljevic, D.', 'Okwose, N.'] 1/03/24 N/A https://pureportal.coventry.ac.uk/en/persons/djordje-jakovljevic\n",
      "External Examiner - iBSc in Endocrinology ['Mark Turner'] 2023 N/A https://pureportal.coventry.ac.uk/en/persons/mark-turner\n",
      "Biochemical Society (External organisation) ['Mike Dodd'] 2023 N/A https://pureportal.coventry.ac.uk/en/persons/mike-dodd\n",
      "PhD Viva: THE INFLUENCE OF OPTIMAL DIETARY PROTEIN INTAKE FOR MUSCLE METABOLISM ACROSS THE LIFESPAN ['Mark Turner'] 27 Apr 2023 N/A https://pureportal.coventry.ac.uk/en/persons/mark-turner\n",
      "Innovate UK KTP Awards ['Farnaud, Sebastien'] N/A N/A https://pureportal.coventry.ac.uk/en/persons/sebastien-farnaud\n",
      "National Recycling Award (NRA) ['Farnaud, Sebastien'] N/A N/A https://pureportal.coventry.ac.uk/en/persons/sebastien-farnaud\n",
      "THE (Times Higher Education) Award 2023 ['Farnaud, Sebastien'] N/A N/A https://pureportal.coventry.ac.uk/en/persons/sebastien-farnaud\n",
      "Bacteria can recover precious metals from electric vehicle batteries – here’s how ['Sebastien Farnaud'] 17/01/21 N/A https://pureportal.coventry.ac.uk/en/persons/sebastien-farnaud\n",
      "Bioleaching for WEEE recycling For Sustainability and a Circular Economy ['Sebastien Farnaud'] 8/12/20 N/A https://pureportal.coventry.ac.uk/en/persons/sebastien-farnaud\n",
      "Committing please wait...\n",
      "Finished\n"
     ]
    },
    {
     "name": "stdin",
     "output_type": "stream",
     "text": [
      "Enter your query:  Awards\n"
     ]
    },
    {
     "name": "stdout",
     "output_type": "stream",
     "text": [
      "Title: Innovate UK KTP Awards\n",
      "Authors:  Farnaud, Sebastien\n",
      "Year: N/A\n",
      "Publication URL: N/A\n",
      "Author Profile URL: https://pureportal.coventry.ac.uk/en/persons/sebastien-farnaud\n",
      "\n",
      "\n"
     ]
    }
   ],
   "source": [
    "# Example usage\n",
    "base_url = \"https://pureportal.coventry.ac.uk/en/organisations/centre-for-health-and-life-sciences\"\n",
    "index_path = \"storage\"\n",
    "\n",
    "# Crawl and index data (This should be scheduled to run once per week)\n",
    "crawl_and_index(base_url, index_path)\n",
    "\n",
    "# Search for publications\n",
    "#Barriers and Facilitators\n",
    "user_query = input(\"Enter your query: \")\n",
    "search(user_query, index_path)"
   ]
  },
  {
   "cell_type": "code",
   "execution_count": null,
   "id": "e42003d7-dd21-44e7-8a33-6eff64cbb739",
   "metadata": {},
   "outputs": [],
   "source": []
  },
  {
   "cell_type": "code",
   "execution_count": null,
   "id": "d1530b5c-6017-4af3-8c0a-e7f856c875a5",
   "metadata": {},
   "outputs": [],
   "source": []
  }
 ],
 "metadata": {
  "kernelspec": {
   "display_name": "Python 3 (ipykernel)",
   "language": "python",
   "name": "python3"
  },
  "language_info": {
   "codemirror_mode": {
    "name": "ipython",
    "version": 3
   },
   "file_extension": ".py",
   "mimetype": "text/x-python",
   "name": "python",
   "nbconvert_exporter": "python",
   "pygments_lexer": "ipython3",
   "version": "3.11.5"
  }
 },
 "nbformat": 4,
 "nbformat_minor": 5
}
